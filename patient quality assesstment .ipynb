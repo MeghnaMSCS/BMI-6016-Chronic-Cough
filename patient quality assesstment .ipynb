{
 "cells": [
  {
   "cell_type": "code",
   "execution_count": 1,
   "id": "6726e648",
   "metadata": {},
   "outputs": [
    {
     "data": {
      "text/plain": [
       "(354772, 11)"
      ]
     },
     "execution_count": 1,
     "metadata": {},
     "output_type": "execute_result"
    }
   ],
   "source": [
    "import pandas as pd\n",
    "import matplotlib.pyplot as plt\n",
    "\n",
    "# Read patient file\n",
    "patient = pd.read_csv(\"patient.csv\")\n",
    "patient.shape"
   ]
  },
  {
   "cell_type": "code",
   "execution_count": 2,
   "id": "6ac31422",
   "metadata": {},
   "outputs": [
    {
     "data": {
      "text/html": [
       "<div>\n",
       "<style scoped>\n",
       "    .dataframe tbody tr th:only-of-type {\n",
       "        vertical-align: middle;\n",
       "    }\n",
       "\n",
       "    .dataframe tbody tr th {\n",
       "        vertical-align: top;\n",
       "    }\n",
       "\n",
       "    .dataframe thead th {\n",
       "        text-align: right;\n",
       "    }\n",
       "</style>\n",
       "<table border=\"1\" class=\"dataframe\">\n",
       "  <thead>\n",
       "    <tr style=\"text-align: right;\">\n",
       "      <th></th>\n",
       "      <th>patient_id</th>\n",
       "      <th>sex</th>\n",
       "      <th>race</th>\n",
       "      <th>ethnicity</th>\n",
       "      <th>marital_status</th>\n",
       "      <th>year_of_birth</th>\n",
       "      <th>reason_yob_missing</th>\n",
       "      <th>month_year_death</th>\n",
       "      <th>death_date_source_id</th>\n",
       "      <th>patient_regional_location</th>\n",
       "      <th>source_id</th>\n",
       "    </tr>\n",
       "  </thead>\n",
       "  <tbody>\n",
       "    <tr>\n",
       "      <th>0</th>\n",
       "      <td>c4e56388119102e00ac9df30148dcae9a55ece2b</td>\n",
       "      <td>M</td>\n",
       "      <td>White</td>\n",
       "      <td>Unknown</td>\n",
       "      <td>Unknown</td>\n",
       "      <td>1962</td>\n",
       "      <td>Present</td>\n",
       "      <td>NaN</td>\n",
       "      <td>NaN</td>\n",
       "      <td>Northeast</td>\n",
       "      <td>EHR</td>\n",
       "    </tr>\n",
       "    <tr>\n",
       "      <th>1</th>\n",
       "      <td>cd92e3bb6b2ab27bd4e272d33e24ae290026d29c</td>\n",
       "      <td>M</td>\n",
       "      <td>White</td>\n",
       "      <td>Not Hispanic or Latino</td>\n",
       "      <td>Unknown</td>\n",
       "      <td>1975</td>\n",
       "      <td>Present</td>\n",
       "      <td>NaN</td>\n",
       "      <td>NaN</td>\n",
       "      <td>Northeast</td>\n",
       "      <td>EHR</td>\n",
       "    </tr>\n",
       "    <tr>\n",
       "      <th>2</th>\n",
       "      <td>7c6a487c1aeae05ce1c1ac404d00e2ae8b149ba4</td>\n",
       "      <td>F</td>\n",
       "      <td>White</td>\n",
       "      <td>Not Hispanic or Latino</td>\n",
       "      <td>Unknown</td>\n",
       "      <td>1962</td>\n",
       "      <td>Present</td>\n",
       "      <td>NaN</td>\n",
       "      <td>NaN</td>\n",
       "      <td>Northeast</td>\n",
       "      <td>EHR</td>\n",
       "    </tr>\n",
       "    <tr>\n",
       "      <th>3</th>\n",
       "      <td>68a883fa8b7c562e43ea111d86b676e3dac37bc7</td>\n",
       "      <td>F</td>\n",
       "      <td>White</td>\n",
       "      <td>Not Hispanic or Latino</td>\n",
       "      <td>Unknown</td>\n",
       "      <td>1952</td>\n",
       "      <td>Present</td>\n",
       "      <td>NaN</td>\n",
       "      <td>NaN</td>\n",
       "      <td>Northeast</td>\n",
       "      <td>EHR</td>\n",
       "    </tr>\n",
       "    <tr>\n",
       "      <th>4</th>\n",
       "      <td>6c5ceb705b0488c626cb44eb2ebf6cef697994d5</td>\n",
       "      <td>F</td>\n",
       "      <td>White</td>\n",
       "      <td>Not Hispanic or Latino</td>\n",
       "      <td>Unknown</td>\n",
       "      <td>1980</td>\n",
       "      <td>Present</td>\n",
       "      <td>NaN</td>\n",
       "      <td>NaN</td>\n",
       "      <td>Northeast</td>\n",
       "      <td>EHR</td>\n",
       "    </tr>\n",
       "  </tbody>\n",
       "</table>\n",
       "</div>"
      ],
      "text/plain": [
       "                                 patient_id sex   race  \\\n",
       "0  c4e56388119102e00ac9df30148dcae9a55ece2b   M  White   \n",
       "1  cd92e3bb6b2ab27bd4e272d33e24ae290026d29c   M  White   \n",
       "2  7c6a487c1aeae05ce1c1ac404d00e2ae8b149ba4   F  White   \n",
       "3  68a883fa8b7c562e43ea111d86b676e3dac37bc7   F  White   \n",
       "4  6c5ceb705b0488c626cb44eb2ebf6cef697994d5   F  White   \n",
       "\n",
       "                ethnicity marital_status  year_of_birth reason_yob_missing  \\\n",
       "0                 Unknown        Unknown           1962            Present   \n",
       "1  Not Hispanic or Latino        Unknown           1975            Present   \n",
       "2  Not Hispanic or Latino        Unknown           1962            Present   \n",
       "3  Not Hispanic or Latino        Unknown           1952            Present   \n",
       "4  Not Hispanic or Latino        Unknown           1980            Present   \n",
       "\n",
       "   month_year_death death_date_source_id patient_regional_location source_id  \n",
       "0               NaN                  NaN                 Northeast       EHR  \n",
       "1               NaN                  NaN                 Northeast       EHR  \n",
       "2               NaN                  NaN                 Northeast       EHR  \n",
       "3               NaN                  NaN                 Northeast       EHR  \n",
       "4               NaN                  NaN                 Northeast       EHR  "
      ]
     },
     "execution_count": 2,
     "metadata": {},
     "output_type": "execute_result"
    }
   ],
   "source": [
    "patient.head()"
   ]
  },
  {
   "cell_type": "code",
   "execution_count": 3,
   "id": "0b62be09",
   "metadata": {},
   "outputs": [
    {
     "data": {
      "text/plain": [
       "patient_id                    object\n",
       "sex                           object\n",
       "race                          object\n",
       "ethnicity                     object\n",
       "marital_status                object\n",
       "year_of_birth                  int64\n",
       "reason_yob_missing            object\n",
       "month_year_death             float64\n",
       "death_date_source_id          object\n",
       "patient_regional_location     object\n",
       "source_id                     object\n",
       "dtype: object"
      ]
     },
     "execution_count": 3,
     "metadata": {},
     "output_type": "execute_result"
    }
   ],
   "source": [
    "patient.dtypes"
   ]
  },
  {
   "cell_type": "code",
   "execution_count": 30,
   "id": "78671af5",
   "metadata": {},
   "outputs": [
    {
     "name": "stdout",
     "output_type": "stream",
     "text": [
      "The sex unique values are: ['M' 'F' 'Unknown']\n",
      "\n",
      "The race unique values are: ['White' 'Unknown' 'Black or African American' 'Asian'\n",
      " 'American Indian or Alaska Native'\n",
      " 'Native Hawaiian or Other Pacific Islander']\n",
      "\n",
      "The ethnicity unique values are: ['Unknown' 'Not Hispanic or Latino' 'Hispanic or Latino']\n",
      "\n",
      "The marital_status unique values are: ['Unknown' 'Married' 'Single']\n",
      "\n",
      "The reason_yob_missing unique values are: ['Present']\n",
      "\n",
      "The death_date_source_id unique values are: [nan 'EHR' 'Death Registry']\n",
      "\n",
      "The patient_regional_location unique values are: ['Northeast' 'Ex-US' 'South' 'West' 'Midwest' 'Unknown']\n",
      "\n",
      "The source_id unique values are: ['EHR']\n"
     ]
    }
   ],
   "source": [
    "# It prints the unique values for the object columns\n",
    "print('The sex unique values are:', patient['sex'].unique()) \n",
    "print('\\nThe race unique values are:', patient['race'].unique()) \n",
    "print('\\nThe ethnicity unique values are:', patient['ethnicity'].unique()) \n",
    "print('\\nThe marital_status unique values are:', patient['marital_status'].unique()) \n",
    "print('\\nThe reason_yob_missing unique values are:', patient['reason_yob_missing'].unique()) \n",
    "print('\\nThe death_date_source_id unique values are:', patient['death_date_source_id'].unique()) \n",
    "print('\\nThe patient_regional_location unique values are:', patient['patient_regional_location'].unique()) \n",
    "print('\\nThe source_id unique values are:', patient['source_id'].unique()) "
   ]
  },
  {
   "cell_type": "code",
   "execution_count": 31,
   "id": "f8ebbef5",
   "metadata": {},
   "outputs": [
    {
     "data": {
      "text/html": [
       "<div>\n",
       "<style scoped>\n",
       "    .dataframe tbody tr th:only-of-type {\n",
       "        vertical-align: middle;\n",
       "    }\n",
       "\n",
       "    .dataframe tbody tr th {\n",
       "        vertical-align: top;\n",
       "    }\n",
       "\n",
       "    .dataframe thead th {\n",
       "        text-align: right;\n",
       "    }\n",
       "</style>\n",
       "<table border=\"1\" class=\"dataframe\">\n",
       "  <thead>\n",
       "    <tr style=\"text-align: right;\">\n",
       "      <th></th>\n",
       "      <th>patient_id</th>\n",
       "      <th>sex</th>\n",
       "      <th>race</th>\n",
       "      <th>ethnicity</th>\n",
       "      <th>marital_status</th>\n",
       "      <th>year_of_birth</th>\n",
       "      <th>reason_yob_missing</th>\n",
       "      <th>month_year_death</th>\n",
       "      <th>death_date_source_id</th>\n",
       "      <th>patient_regional_location</th>\n",
       "      <th>source_id</th>\n",
       "      <th>year_of_death</th>\n",
       "      <th>birth_vs_death</th>\n",
       "    </tr>\n",
       "  </thead>\n",
       "  <tbody>\n",
       "    <tr>\n",
       "      <th>0</th>\n",
       "      <td>c4e56388119102e00ac9df30148dcae9a55ece2b</td>\n",
       "      <td>M</td>\n",
       "      <td>White</td>\n",
       "      <td>Unknown</td>\n",
       "      <td>Unknown</td>\n",
       "      <td>1962</td>\n",
       "      <td>Present</td>\n",
       "      <td>NaN</td>\n",
       "      <td>NaN</td>\n",
       "      <td>Northeast</td>\n",
       "      <td>EHR</td>\n",
       "      <td>3000</td>\n",
       "      <td>False</td>\n",
       "    </tr>\n",
       "    <tr>\n",
       "      <th>1</th>\n",
       "      <td>cd92e3bb6b2ab27bd4e272d33e24ae290026d29c</td>\n",
       "      <td>M</td>\n",
       "      <td>White</td>\n",
       "      <td>Not Hispanic or Latino</td>\n",
       "      <td>Unknown</td>\n",
       "      <td>1975</td>\n",
       "      <td>Present</td>\n",
       "      <td>NaN</td>\n",
       "      <td>NaN</td>\n",
       "      <td>Northeast</td>\n",
       "      <td>EHR</td>\n",
       "      <td>3000</td>\n",
       "      <td>False</td>\n",
       "    </tr>\n",
       "    <tr>\n",
       "      <th>2</th>\n",
       "      <td>7c6a487c1aeae05ce1c1ac404d00e2ae8b149ba4</td>\n",
       "      <td>F</td>\n",
       "      <td>White</td>\n",
       "      <td>Not Hispanic or Latino</td>\n",
       "      <td>Unknown</td>\n",
       "      <td>1962</td>\n",
       "      <td>Present</td>\n",
       "      <td>NaN</td>\n",
       "      <td>NaN</td>\n",
       "      <td>Northeast</td>\n",
       "      <td>EHR</td>\n",
       "      <td>3000</td>\n",
       "      <td>False</td>\n",
       "    </tr>\n",
       "    <tr>\n",
       "      <th>3</th>\n",
       "      <td>68a883fa8b7c562e43ea111d86b676e3dac37bc7</td>\n",
       "      <td>F</td>\n",
       "      <td>White</td>\n",
       "      <td>Not Hispanic or Latino</td>\n",
       "      <td>Unknown</td>\n",
       "      <td>1952</td>\n",
       "      <td>Present</td>\n",
       "      <td>NaN</td>\n",
       "      <td>NaN</td>\n",
       "      <td>Northeast</td>\n",
       "      <td>EHR</td>\n",
       "      <td>3000</td>\n",
       "      <td>False</td>\n",
       "    </tr>\n",
       "    <tr>\n",
       "      <th>4</th>\n",
       "      <td>6c5ceb705b0488c626cb44eb2ebf6cef697994d5</td>\n",
       "      <td>F</td>\n",
       "      <td>White</td>\n",
       "      <td>Not Hispanic or Latino</td>\n",
       "      <td>Unknown</td>\n",
       "      <td>1980</td>\n",
       "      <td>Present</td>\n",
       "      <td>NaN</td>\n",
       "      <td>NaN</td>\n",
       "      <td>Northeast</td>\n",
       "      <td>EHR</td>\n",
       "      <td>3000</td>\n",
       "      <td>False</td>\n",
       "    </tr>\n",
       "  </tbody>\n",
       "</table>\n",
       "</div>"
      ],
      "text/plain": [
       "                                 patient_id sex   race  \\\n",
       "0  c4e56388119102e00ac9df30148dcae9a55ece2b   M  White   \n",
       "1  cd92e3bb6b2ab27bd4e272d33e24ae290026d29c   M  White   \n",
       "2  7c6a487c1aeae05ce1c1ac404d00e2ae8b149ba4   F  White   \n",
       "3  68a883fa8b7c562e43ea111d86b676e3dac37bc7   F  White   \n",
       "4  6c5ceb705b0488c626cb44eb2ebf6cef697994d5   F  White   \n",
       "\n",
       "                ethnicity marital_status  year_of_birth reason_yob_missing  \\\n",
       "0                 Unknown        Unknown           1962            Present   \n",
       "1  Not Hispanic or Latino        Unknown           1975            Present   \n",
       "2  Not Hispanic or Latino        Unknown           1962            Present   \n",
       "3  Not Hispanic or Latino        Unknown           1952            Present   \n",
       "4  Not Hispanic or Latino        Unknown           1980            Present   \n",
       "\n",
       "   month_year_death death_date_source_id patient_regional_location source_id  \\\n",
       "0               NaN                  NaN                 Northeast       EHR   \n",
       "1               NaN                  NaN                 Northeast       EHR   \n",
       "2               NaN                  NaN                 Northeast       EHR   \n",
       "3               NaN                  NaN                 Northeast       EHR   \n",
       "4               NaN                  NaN                 Northeast       EHR   \n",
       "\n",
       "   year_of_death  birth_vs_death  \n",
       "0           3000           False  \n",
       "1           3000           False  \n",
       "2           3000           False  \n",
       "3           3000           False  \n",
       "4           3000           False  "
      ]
     },
     "execution_count": 31,
     "metadata": {},
     "output_type": "execute_result"
    }
   ],
   "source": [
    "patient.sort_values(by=['patient_id'])\n",
    "patient.head()"
   ]
  },
  {
   "cell_type": "code",
   "execution_count": 12,
   "id": "97ba8404",
   "metadata": {},
   "outputs": [
    {
     "data": {
      "text/html": [
       "<div>\n",
       "<style scoped>\n",
       "    .dataframe tbody tr th:only-of-type {\n",
       "        vertical-align: middle;\n",
       "    }\n",
       "\n",
       "    .dataframe tbody tr th {\n",
       "        vertical-align: top;\n",
       "    }\n",
       "\n",
       "    .dataframe thead th {\n",
       "        text-align: right;\n",
       "    }\n",
       "</style>\n",
       "<table border=\"1\" class=\"dataframe\">\n",
       "  <thead>\n",
       "    <tr style=\"text-align: right;\">\n",
       "      <th></th>\n",
       "      <th>year_of_birth</th>\n",
       "      <th>month_year_death</th>\n",
       "    </tr>\n",
       "  </thead>\n",
       "  <tbody>\n",
       "    <tr>\n",
       "      <th>count</th>\n",
       "      <td>354772.000000</td>\n",
       "      <td>8844.000000</td>\n",
       "    </tr>\n",
       "    <tr>\n",
       "      <th>mean</th>\n",
       "      <td>1972.704272</td>\n",
       "      <td>201649.372343</td>\n",
       "    </tr>\n",
       "    <tr>\n",
       "      <th>std</th>\n",
       "      <td>17.489742</td>\n",
       "      <td>694.759666</td>\n",
       "    </tr>\n",
       "    <tr>\n",
       "      <th>min</th>\n",
       "      <td>1942.000000</td>\n",
       "      <td>196110.000000</td>\n",
       "    </tr>\n",
       "    <tr>\n",
       "      <th>25%</th>\n",
       "      <td>1958.000000</td>\n",
       "      <td>201508.000000</td>\n",
       "    </tr>\n",
       "    <tr>\n",
       "      <th>50%</th>\n",
       "      <td>1972.000000</td>\n",
       "      <td>201901.000000</td>\n",
       "    </tr>\n",
       "    <tr>\n",
       "      <th>75%</th>\n",
       "      <td>1988.000000</td>\n",
       "      <td>202102.000000</td>\n",
       "    </tr>\n",
       "    <tr>\n",
       "      <th>max</th>\n",
       "      <td>2005.000000</td>\n",
       "      <td>202302.000000</td>\n",
       "    </tr>\n",
       "  </tbody>\n",
       "</table>\n",
       "</div>"
      ],
      "text/plain": [
       "       year_of_birth  month_year_death\n",
       "count  354772.000000       8844.000000\n",
       "mean     1972.704272     201649.372343\n",
       "std        17.489742        694.759666\n",
       "min      1942.000000     196110.000000\n",
       "25%      1958.000000     201508.000000\n",
       "50%      1972.000000     201901.000000\n",
       "75%      1988.000000     202102.000000\n",
       "max      2005.000000     202302.000000"
      ]
     },
     "execution_count": 12,
     "metadata": {},
     "output_type": "execute_result"
    }
   ],
   "source": [
    "patient.describe()"
   ]
  },
  {
   "cell_type": "code",
   "execution_count": 13,
   "id": "86b6e645",
   "metadata": {},
   "outputs": [
    {
     "data": {
      "text/plain": [
       "patient_id                        0\n",
       "sex                               0\n",
       "race                              0\n",
       "ethnicity                         0\n",
       "marital_status                    0\n",
       "year_of_birth                     0\n",
       "reason_yob_missing                0\n",
       "month_year_death             345928\n",
       "death_date_source_id         345928\n",
       "patient_regional_location         0\n",
       "source_id                         0\n",
       "dtype: int64"
      ]
     },
     "execution_count": 13,
     "metadata": {},
     "output_type": "execute_result"
    }
   ],
   "source": [
    "# Check for missing values in the patient file\n",
    "patient.isna().sum()"
   ]
  },
  {
   "cell_type": "code",
   "execution_count": 14,
   "id": "c3c52b00",
   "metadata": {},
   "outputs": [
    {
     "data": {
      "text/html": [
       "<div>\n",
       "<style scoped>\n",
       "    .dataframe tbody tr th:only-of-type {\n",
       "        vertical-align: middle;\n",
       "    }\n",
       "\n",
       "    .dataframe tbody tr th {\n",
       "        vertical-align: top;\n",
       "    }\n",
       "\n",
       "    .dataframe thead th {\n",
       "        text-align: right;\n",
       "    }\n",
       "</style>\n",
       "<table border=\"1\" class=\"dataframe\">\n",
       "  <thead>\n",
       "    <tr style=\"text-align: right;\">\n",
       "      <th></th>\n",
       "      <th>patient_id</th>\n",
       "      <th>sex</th>\n",
       "      <th>race</th>\n",
       "      <th>ethnicity</th>\n",
       "      <th>marital_status</th>\n",
       "      <th>year_of_birth</th>\n",
       "      <th>reason_yob_missing</th>\n",
       "      <th>month_year_death</th>\n",
       "      <th>death_date_source_id</th>\n",
       "      <th>patient_regional_location</th>\n",
       "      <th>source_id</th>\n",
       "    </tr>\n",
       "  </thead>\n",
       "  <tbody>\n",
       "  </tbody>\n",
       "</table>\n",
       "</div>"
      ],
      "text/plain": [
       "Empty DataFrame\n",
       "Columns: [patient_id, sex, race, ethnicity, marital_status, year_of_birth, reason_yob_missing, month_year_death, death_date_source_id, patient_regional_location, source_id]\n",
       "Index: []"
      ]
     },
     "execution_count": 14,
     "metadata": {},
     "output_type": "execute_result"
    }
   ],
   "source": [
    "# Duplicated records\n",
    "patient[patient.duplicated()]"
   ]
  },
  {
   "cell_type": "code",
   "execution_count": 15,
   "id": "bbfecb79",
   "metadata": {},
   "outputs": [
    {
     "name": "stdout",
     "output_type": "stream",
     "text": [
      "1942\n",
      "\n",
      "2005\n"
     ]
    }
   ],
   "source": [
    "# year of birth range in the patient file \n",
    "min_date = patient['year_of_birth'].min()\n",
    "max_date = patient['year_of_birth'].max()\n",
    "print(min_date)\n",
    "print()\n",
    "print(max_date)"
   ]
  },
  {
   "cell_type": "code",
   "execution_count": 16,
   "id": "50751b8d",
   "metadata": {},
   "outputs": [
    {
     "name": "stdout",
     "output_type": "stream",
     "text": [
      "196110.0\n",
      "\n",
      "202302.0\n"
     ]
    }
   ],
   "source": [
    "# year of birth range in the patient file \n",
    "min_date = patient['month_year_death'].min()\n",
    "max_date = patient['month_year_death'].max()\n",
    "print(min_date)\n",
    "print()\n",
    "print(max_date)"
   ]
  },
  {
   "cell_type": "code",
   "execution_count": 17,
   "id": "a584633d",
   "metadata": {},
   "outputs": [
    {
     "data": {
      "image/png": "[encoded data removed]",
      "text/plain": [
       "<Figure size 432x288 with 1 Axes>"
      ]
     },
     "metadata": {
      "needs_background": "light"
     },
     "output_type": "display_data"
    }
   ],
   "source": [
    "#bar chart showing the breakdown of thnicity('Unknown' 'Not Hispanic or Latino' 'Hispanic or Latino')\n",
    "patient[\"ethnicity\"].value_counts().plot(kind='bar',title='Ethnicity');"
   ]
  },
  {
   "cell_type": "code",
   "execution_count": 18,
   "id": "ecaf4e18",
   "metadata": {},
   "outputs": [
    {
     "data": {
      "text/plain": [
       "Text(0, 0.5, 'Number of Patients')"
      ]
     },
     "execution_count": 18,
     "metadata": {},
     "output_type": "execute_result"
    },
    {
     "data": {
      "image/png": "[encoded data removed]",
      "text/plain": [
       "<Figure size 800x400 with 1 Axes>"
      ]
     },
     "metadata": {
      "needs_background": "light"
     },
     "output_type": "display_data"
    }
   ],
   "source": [
    "from matplotlib.pyplot import figure\n",
    "\n",
    "# looking at patient_regional_location distribution\n",
    "figure(figsize=(10, 5), dpi=80)\n",
    "L = patient[[\"patient_regional_location\"]].value_counts()\n",
    "L.plot(kind=\"bar\", color='b' )\n",
    "plt.grid(color = 'blue', linestyle = '--', linewidth = 0.5)\n",
    "plt.title(\"Number of Patients per Regional Location\")\n",
    "plt.ylabel(\"Number of Patients\")"
   ]
  },
  {
   "cell_type": "code",
   "execution_count": 19,
   "id": "f0e7aa89",
   "metadata": {},
   "outputs": [
    {
     "data": {
      "text/plain": [
       "Text(0, 0.5, 'Number of Patients')"
      ]
     },
     "execution_count": 19,
     "metadata": {},
     "output_type": "execute_result"
    },
    {
     "data": {
      "image/png": "[encoded data removed]",
      "text/plain": [
       "<Figure size 800x400 with 1 Axes>"
      ]
     },
     "metadata": {
      "needs_background": "light"
     },
     "output_type": "display_data"
    }
   ],
   "source": [
    "# looking at patient_regional_location distribution\n",
    "figure(figsize=(10, 5), dpi=80)\n",
    "L = patient[[\"patient_regional_location\"]].value_counts()\n",
    "L.plot(kind=\"bar\", color='b' )\n",
    "plt.grid(color = 'blue', linestyle = '--', linewidth = 0.5)\n",
    "plt.title(\"Number of Patients per Regional Location\")\n",
    "plt.ylabel(\"Number of Patients\")"
   ]
  },
  {
   "cell_type": "code",
   "execution_count": 20,
   "id": "8ce2ec03",
   "metadata": {},
   "outputs": [
    {
     "name": "stdout",
     "output_type": "stream",
     "text": [
      "354772\n"
     ]
    }
   ],
   "source": [
    "# Get total count in the patient file for unique patient_id\n",
    "print(len(patient['patient_id'].unique()))"
   ]
  },
  {
   "cell_type": "code",
   "execution_count": 21,
   "id": "63640a22",
   "metadata": {},
   "outputs": [
    {
     "data": {
      "text/html": [
       "<div>\n",
       "<style scoped>\n",
       "    .dataframe tbody tr th:only-of-type {\n",
       "        vertical-align: middle;\n",
       "    }\n",
       "\n",
       "    .dataframe tbody tr th {\n",
       "        vertical-align: top;\n",
       "    }\n",
       "\n",
       "    .dataframe thead th {\n",
       "        text-align: right;\n",
       "    }\n",
       "</style>\n",
       "<table border=\"1\" class=\"dataframe\">\n",
       "  <thead>\n",
       "    <tr style=\"text-align: right;\">\n",
       "      <th></th>\n",
       "      <th>patient_id</th>\n",
       "      <th>sex</th>\n",
       "      <th>race</th>\n",
       "      <th>ethnicity</th>\n",
       "      <th>marital_status</th>\n",
       "      <th>year_of_birth</th>\n",
       "      <th>reason_yob_missing</th>\n",
       "      <th>month_year_death</th>\n",
       "      <th>death_date_source_id</th>\n",
       "      <th>patient_regional_location</th>\n",
       "      <th>source_id</th>\n",
       "      <th>year_of_death</th>\n",
       "    </tr>\n",
       "  </thead>\n",
       "  <tbody>\n",
       "    <tr>\n",
       "      <th>0</th>\n",
       "      <td>c4e56388119102e00ac9df30148dcae9a55ece2b</td>\n",
       "      <td>M</td>\n",
       "      <td>White</td>\n",
       "      <td>Unknown</td>\n",
       "      <td>Unknown</td>\n",
       "      <td>1962</td>\n",
       "      <td>Present</td>\n",
       "      <td>NaN</td>\n",
       "      <td>NaN</td>\n",
       "      <td>Northeast</td>\n",
       "      <td>EHR</td>\n",
       "      <td>3000</td>\n",
       "    </tr>\n",
       "    <tr>\n",
       "      <th>1</th>\n",
       "      <td>cd92e3bb6b2ab27bd4e272d33e24ae290026d29c</td>\n",
       "      <td>M</td>\n",
       "      <td>White</td>\n",
       "      <td>Not Hispanic or Latino</td>\n",
       "      <td>Unknown</td>\n",
       "      <td>1975</td>\n",
       "      <td>Present</td>\n",
       "      <td>NaN</td>\n",
       "      <td>NaN</td>\n",
       "      <td>Northeast</td>\n",
       "      <td>EHR</td>\n",
       "      <td>3000</td>\n",
       "    </tr>\n",
       "    <tr>\n",
       "      <th>2</th>\n",
       "      <td>7c6a487c1aeae05ce1c1ac404d00e2ae8b149ba4</td>\n",
       "      <td>F</td>\n",
       "      <td>White</td>\n",
       "      <td>Not Hispanic or Latino</td>\n",
       "      <td>Unknown</td>\n",
       "      <td>1962</td>\n",
       "      <td>Present</td>\n",
       "      <td>NaN</td>\n",
       "      <td>NaN</td>\n",
       "      <td>Northeast</td>\n",
       "      <td>EHR</td>\n",
       "      <td>3000</td>\n",
       "    </tr>\n",
       "    <tr>\n",
       "      <th>3</th>\n",
       "      <td>68a883fa8b7c562e43ea111d86b676e3dac37bc7</td>\n",
       "      <td>F</td>\n",
       "      <td>White</td>\n",
       "      <td>Not Hispanic or Latino</td>\n",
       "      <td>Unknown</td>\n",
       "      <td>1952</td>\n",
       "      <td>Present</td>\n",
       "      <td>NaN</td>\n",
       "      <td>NaN</td>\n",
       "      <td>Northeast</td>\n",
       "      <td>EHR</td>\n",
       "      <td>3000</td>\n",
       "    </tr>\n",
       "    <tr>\n",
       "      <th>4</th>\n",
       "      <td>6c5ceb705b0488c626cb44eb2ebf6cef697994d5</td>\n",
       "      <td>F</td>\n",
       "      <td>White</td>\n",
       "      <td>Not Hispanic or Latino</td>\n",
       "      <td>Unknown</td>\n",
       "      <td>1980</td>\n",
       "      <td>Present</td>\n",
       "      <td>NaN</td>\n",
       "      <td>NaN</td>\n",
       "      <td>Northeast</td>\n",
       "      <td>EHR</td>\n",
       "      <td>3000</td>\n",
       "    </tr>\n",
       "  </tbody>\n",
       "</table>\n",
       "</div>"
      ],
      "text/plain": [
       "                                 patient_id sex   race  \\\n",
       "0  c4e56388119102e00ac9df30148dcae9a55ece2b   M  White   \n",
       "1  cd92e3bb6b2ab27bd4e272d33e24ae290026d29c   M  White   \n",
       "2  7c6a487c1aeae05ce1c1ac404d00e2ae8b149ba4   F  White   \n",
       "3  68a883fa8b7c562e43ea111d86b676e3dac37bc7   F  White   \n",
       "4  6c5ceb705b0488c626cb44eb2ebf6cef697994d5   F  White   \n",
       "\n",
       "                ethnicity marital_status  year_of_birth reason_yob_missing  \\\n",
       "0                 Unknown        Unknown           1962            Present   \n",
       "1  Not Hispanic or Latino        Unknown           1975            Present   \n",
       "2  Not Hispanic or Latino        Unknown           1962            Present   \n",
       "3  Not Hispanic or Latino        Unknown           1952            Present   \n",
       "4  Not Hispanic or Latino        Unknown           1980            Present   \n",
       "\n",
       "   month_year_death death_date_source_id patient_regional_location source_id  \\\n",
       "0               NaN                  NaN                 Northeast       EHR   \n",
       "1               NaN                  NaN                 Northeast       EHR   \n",
       "2               NaN                  NaN                 Northeast       EHR   \n",
       "3               NaN                  NaN                 Northeast       EHR   \n",
       "4               NaN                  NaN                 Northeast       EHR   \n",
       "\n",
       "   year_of_death  \n",
       "0           3000  \n",
       "1           3000  \n",
       "2           3000  \n",
       "3           3000  \n",
       "4           3000  "
      ]
     },
     "execution_count": 21,
     "metadata": {},
     "output_type": "execute_result"
    }
   ],
   "source": [
    "# Is the month_year_death before year of birth? If so, delete the value\n",
    "patient['year_of_death'] = patient['month_year_death'].fillna(3000).astype(int).astype(str).str[:4].astype(int)\n",
    "patient.head()"
   ]
  },
  {
   "cell_type": "code",
   "execution_count": 22,
   "id": "d121877f",
   "metadata": {},
   "outputs": [
    {
     "name": "stdout",
     "output_type": "stream",
     "text": [
      "4\n"
     ]
    }
   ],
   "source": [
    "# Create column 'birth_vs_death'\n",
    "patient['birth_vs_death'] = patient['year_of_birth'] >= patient['year_of_death']\n",
    "# Get count of patients who's day \n",
    "count_true = (patient['birth_vs_death'] == True).sum()\n",
    "print(count_true)"
   ]
  },
  {
   "cell_type": "code",
   "execution_count": 23,
   "id": "aacc2f98",
   "metadata": {},
   "outputs": [
    {
     "data": {
      "text/html": [
       "<div>\n",
       "<style scoped>\n",
       "    .dataframe tbody tr th:only-of-type {\n",
       "        vertical-align: middle;\n",
       "    }\n",
       "\n",
       "    .dataframe tbody tr th {\n",
       "        vertical-align: top;\n",
       "    }\n",
       "\n",
       "    .dataframe thead th {\n",
       "        text-align: right;\n",
       "    }\n",
       "</style>\n",
       "<table border=\"1\" class=\"dataframe\">\n",
       "  <thead>\n",
       "    <tr style=\"text-align: right;\">\n",
       "      <th></th>\n",
       "      <th>patient_id</th>\n",
       "      <th>sex</th>\n",
       "      <th>race</th>\n",
       "      <th>ethnicity</th>\n",
       "      <th>marital_status</th>\n",
       "      <th>year_of_birth</th>\n",
       "      <th>reason_yob_missing</th>\n",
       "      <th>month_year_death</th>\n",
       "      <th>death_date_source_id</th>\n",
       "      <th>patient_regional_location</th>\n",
       "      <th>source_id</th>\n",
       "      <th>year_of_death</th>\n",
       "      <th>birth_vs_death</th>\n",
       "    </tr>\n",
       "  </thead>\n",
       "  <tbody>\n",
       "    <tr>\n",
       "      <th>39751</th>\n",
       "      <td>f1e7117c6bbbeac85a95e3ec29feabf368bd3f6f</td>\n",
       "      <td>F</td>\n",
       "      <td>Unknown</td>\n",
       "      <td>Hispanic or Latino</td>\n",
       "      <td>Married</td>\n",
       "      <td>2001</td>\n",
       "      <td>Present</td>\n",
       "      <td>200107.0</td>\n",
       "      <td>Death Registry</td>\n",
       "      <td>Northeast</td>\n",
       "      <td>EHR</td>\n",
       "      <td>2001</td>\n",
       "      <td>True</td>\n",
       "    </tr>\n",
       "    <tr>\n",
       "      <th>84650</th>\n",
       "      <td>92c1f2f840e140fb8745512271ec9cd2d651c301</td>\n",
       "      <td>M</td>\n",
       "      <td>Unknown</td>\n",
       "      <td>Hispanic or Latino</td>\n",
       "      <td>Unknown</td>\n",
       "      <td>1996</td>\n",
       "      <td>Present</td>\n",
       "      <td>199608.0</td>\n",
       "      <td>EHR</td>\n",
       "      <td>Northeast</td>\n",
       "      <td>EHR</td>\n",
       "      <td>1996</td>\n",
       "      <td>True</td>\n",
       "    </tr>\n",
       "    <tr>\n",
       "      <th>208499</th>\n",
       "      <td>49860752b77d2dd3afe2aa048df3d515ffdd858f</td>\n",
       "      <td>M</td>\n",
       "      <td>White</td>\n",
       "      <td>Unknown</td>\n",
       "      <td>Unknown</td>\n",
       "      <td>2003</td>\n",
       "      <td>Present</td>\n",
       "      <td>200306.0</td>\n",
       "      <td>Death Registry</td>\n",
       "      <td>Northeast</td>\n",
       "      <td>EHR</td>\n",
       "      <td>2003</td>\n",
       "      <td>True</td>\n",
       "    </tr>\n",
       "    <tr>\n",
       "      <th>213107</th>\n",
       "      <td>28b21371467874cb664d395a797762786414a903</td>\n",
       "      <td>F</td>\n",
       "      <td>White</td>\n",
       "      <td>Unknown</td>\n",
       "      <td>Unknown</td>\n",
       "      <td>1985</td>\n",
       "      <td>Present</td>\n",
       "      <td>198503.0</td>\n",
       "      <td>Death Registry</td>\n",
       "      <td>Northeast</td>\n",
       "      <td>EHR</td>\n",
       "      <td>1985</td>\n",
       "      <td>True</td>\n",
       "    </tr>\n",
       "  </tbody>\n",
       "</table>\n",
       "</div>"
      ],
      "text/plain": [
       "                                      patient_id sex     race  \\\n",
       "39751   f1e7117c6bbbeac85a95e3ec29feabf368bd3f6f   F  Unknown   \n",
       "84650   92c1f2f840e140fb8745512271ec9cd2d651c301   M  Unknown   \n",
       "208499  49860752b77d2dd3afe2aa048df3d515ffdd858f   M    White   \n",
       "213107  28b21371467874cb664d395a797762786414a903   F    White   \n",
       "\n",
       "                 ethnicity marital_status  year_of_birth reason_yob_missing  \\\n",
       "39751   Hispanic or Latino        Married           2001            Present   \n",
       "84650   Hispanic or Latino        Unknown           1996            Present   \n",
       "208499             Unknown        Unknown           2003            Present   \n",
       "213107             Unknown        Unknown           1985            Present   \n",
       "\n",
       "        month_year_death death_date_source_id patient_regional_location  \\\n",
       "39751           200107.0       Death Registry                 Northeast   \n",
       "84650           199608.0                  EHR                 Northeast   \n",
       "208499          200306.0       Death Registry                 Northeast   \n",
       "213107          198503.0       Death Registry                 Northeast   \n",
       "\n",
       "       source_id  year_of_death  birth_vs_death  \n",
       "39751        EHR           2001            True  \n",
       "84650        EHR           1996            True  \n",
       "208499       EHR           2003            True  \n",
       "213107       EHR           1985            True  "
      ]
     },
     "execution_count": 23,
     "metadata": {},
     "output_type": "execute_result"
    }
   ],
   "source": [
    "# Is the month_year_death before year of birth\n",
    "year_death_greater = patient[patient['birth_vs_death'] >= True]\n",
    "year_death_greater"
   ]
  },
  {
   "cell_type": "code",
   "execution_count": 24,
   "id": "d1d28982",
   "metadata": {},
   "outputs": [],
   "source": [
    "# delete specified rows at index values: 39751, 84650, 208499 and 213107\n",
    "patient = patient.drop(labels = [39751, 84650, 208499, 213107], axis = 0)"
   ]
  },
  {
   "cell_type": "code",
   "execution_count": 25,
   "id": "41062553",
   "metadata": {},
   "outputs": [
    {
     "name": "stdout",
     "output_type": "stream",
     "text": [
      "0\n"
     ]
    }
   ],
   "source": [
    "# Verify that the correct rows were dropped.\n",
    "count_true = (patient['birth_vs_death'] == True).sum()\n",
    "print(count_true)"
   ]
  },
  {
   "cell_type": "code",
   "execution_count": null,
   "id": "9274c7ba",
   "metadata": {},
   "outputs": [],
   "source": [
    "# Print number of unique diagnostic codes\n",
    "print(len(patient['code'].unique())) "
   ]
  }
 ],
 "metadata": {
  "kernelspec": {
   "display_name": "Python 3 (ipykernel)",
   "language": "python",
   "name": "python3"
  },
  "language_info": {
   "codemirror_mode": {
    "name": "ipython",
    "version": 3
   },
   "file_extension": ".py",
   "mimetype": "text/x-python",
   "name": "python",
   "nbconvert_exporter": "python",
   "pygments_lexer": "ipython3",
   "version": "3.10.3"
  }
 },
 "nbformat": 4,
 "nbformat_minor": 5
}
