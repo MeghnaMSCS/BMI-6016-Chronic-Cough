{
 "cells": [
  {
   "cell_type": "code",
   "execution_count": 1,
   "id": "14890540",
   "metadata": {},
   "outputs": [],
   "source": [
    "import os  \n",
    "os.environ[\"KMP_DUPLICATE_LIB_OK\"]=\"TRUE\""
   ]
  },
  {
   "cell_type": "code",
   "execution_count": 2,
   "id": "5f19cc23",
   "metadata": {},
   "outputs": [],
   "source": [
    "import pandas as pd"
   ]
  },
  {
   "cell_type": "code",
   "execution_count": 3,
   "id": "3b0bc8c5",
   "metadata": {},
   "outputs": [],
   "source": [
    "diagnosis = pd.read_csv('diagnosis.csv', engine='python')"
   ]
  },
  {
   "cell_type": "code",
   "execution_count": 44,
   "id": "fe73750e",
   "metadata": {},
   "outputs": [
    {
     "data": {
      "text/html": [
       "<div>\n",
       "<style scoped>\n",
       "    .dataframe tbody tr th:only-of-type {\n",
       "        vertical-align: middle;\n",
       "    }\n",
       "\n",
       "    .dataframe tbody tr th {\n",
       "        vertical-align: top;\n",
       "    }\n",
       "\n",
       "    .dataframe thead th {\n",
       "        text-align: right;\n",
       "    }\n",
       "</style>\n",
       "<table border=\"1\" class=\"dataframe\">\n",
       "  <thead>\n",
       "    <tr style=\"text-align: right;\">\n",
       "      <th></th>\n",
       "      <th>patient_id</th>\n",
       "      <th>encounter_id</th>\n",
       "      <th>code_system</th>\n",
       "      <th>code</th>\n",
       "      <th>principal_diagnosis_indicator</th>\n",
       "      <th>admitting_diagnosis</th>\n",
       "      <th>reason_for_visit</th>\n",
       "      <th>date</th>\n",
       "      <th>derived_by_TriNetX</th>\n",
       "      <th>source_id</th>\n",
       "    </tr>\n",
       "  </thead>\n",
       "  <tbody>\n",
       "    <tr>\n",
       "      <th>0</th>\n",
       "      <td>cb210c55a430cf6b0b7de17394af7ac1ef023b11</td>\n",
       "      <td>NaN</td>\n",
       "      <td>ICD-10-CM</td>\n",
       "      <td>C90.00</td>\n",
       "      <td>Unknown</td>\n",
       "      <td>F</td>\n",
       "      <td>F</td>\n",
       "      <td>20210317</td>\n",
       "      <td>T</td>\n",
       "      <td>TriNetX</td>\n",
       "    </tr>\n",
       "    <tr>\n",
       "      <th>1</th>\n",
       "      <td>09a69098466bb348bc9539b01f10e693779ae0d4</td>\n",
       "      <td>NaN</td>\n",
       "      <td>ICD-10-CM</td>\n",
       "      <td>C81.10</td>\n",
       "      <td>Unknown</td>\n",
       "      <td>F</td>\n",
       "      <td>F</td>\n",
       "      <td>20121226</td>\n",
       "      <td>T</td>\n",
       "      <td>TriNetX</td>\n",
       "    </tr>\n",
       "    <tr>\n",
       "      <th>2</th>\n",
       "      <td>09a69098466bb348bc9539b01f10e693779ae0d4</td>\n",
       "      <td>NaN</td>\n",
       "      <td>ICD-10-CM</td>\n",
       "      <td>C81.10</td>\n",
       "      <td>Unknown</td>\n",
       "      <td>F</td>\n",
       "      <td>F</td>\n",
       "      <td>20121226</td>\n",
       "      <td>T</td>\n",
       "      <td>TriNetX</td>\n",
       "    </tr>\n",
       "    <tr>\n",
       "      <th>3</th>\n",
       "      <td>1cfc222e0da79fc72ace45ebc1de9397705bc73b</td>\n",
       "      <td>NaN</td>\n",
       "      <td>ICD-10-CM</td>\n",
       "      <td>C91.00</td>\n",
       "      <td>Unknown</td>\n",
       "      <td>F</td>\n",
       "      <td>F</td>\n",
       "      <td>20121023</td>\n",
       "      <td>T</td>\n",
       "      <td>TriNetX</td>\n",
       "    </tr>\n",
       "    <tr>\n",
       "      <th>4</th>\n",
       "      <td>1fbf8e821935996fc627573341cf02237a203ff9</td>\n",
       "      <td>NaN</td>\n",
       "      <td>ICD-10-CM</td>\n",
       "      <td>C22.0</td>\n",
       "      <td>Unknown</td>\n",
       "      <td>F</td>\n",
       "      <td>F</td>\n",
       "      <td>20081229</td>\n",
       "      <td>T</td>\n",
       "      <td>TriNetX</td>\n",
       "    </tr>\n",
       "    <tr>\n",
       "      <th>...</th>\n",
       "      <td>...</td>\n",
       "      <td>...</td>\n",
       "      <td>...</td>\n",
       "      <td>...</td>\n",
       "      <td>...</td>\n",
       "      <td>...</td>\n",
       "      <td>...</td>\n",
       "      <td>...</td>\n",
       "      <td>...</td>\n",
       "      <td>...</td>\n",
       "    </tr>\n",
       "    <tr>\n",
       "      <th>299995</th>\n",
       "      <td>9ec142709d75d3ff3a6f4692fbc8c92e4a35be87</td>\n",
       "      <td>13d04420b5cbfc79ff41460d9f08d052ede3013a</td>\n",
       "      <td>ICD-10-CM</td>\n",
       "      <td>E78.5</td>\n",
       "      <td>Unknown</td>\n",
       "      <td>U</td>\n",
       "      <td>U</td>\n",
       "      <td>20211004</td>\n",
       "      <td>F</td>\n",
       "      <td>EHR</td>\n",
       "    </tr>\n",
       "    <tr>\n",
       "      <th>299996</th>\n",
       "      <td>9ec142709d75d3ff3a6f4692fbc8c92e4a35be87</td>\n",
       "      <td>0d6e40c2af0224e6407bfe791789baefa2a7e3bd</td>\n",
       "      <td>ICD-10-CM</td>\n",
       "      <td>E78.5</td>\n",
       "      <td>Unknown</td>\n",
       "      <td>U</td>\n",
       "      <td>U</td>\n",
       "      <td>20211227</td>\n",
       "      <td>F</td>\n",
       "      <td>EHR</td>\n",
       "    </tr>\n",
       "    <tr>\n",
       "      <th>299997</th>\n",
       "      <td>9ec142709d75d3ff3a6f4692fbc8c92e4a35be87</td>\n",
       "      <td>f903324b34e482f389ea56c4c326ebc828ca567c</td>\n",
       "      <td>ICD-10-CM</td>\n",
       "      <td>E78.5</td>\n",
       "      <td>Unknown</td>\n",
       "      <td>U</td>\n",
       "      <td>U</td>\n",
       "      <td>20220505</td>\n",
       "      <td>F</td>\n",
       "      <td>EHR</td>\n",
       "    </tr>\n",
       "    <tr>\n",
       "      <th>299998</th>\n",
       "      <td>9ec142709d75d3ff3a6f4692fbc8c92e4a35be87</td>\n",
       "      <td>a4b17011bc0bd4e75025cf74518e8f462fa67f4c</td>\n",
       "      <td>ICD-10-CM</td>\n",
       "      <td>E78.5</td>\n",
       "      <td>Unknown</td>\n",
       "      <td>U</td>\n",
       "      <td>U</td>\n",
       "      <td>20220809</td>\n",
       "      <td>F</td>\n",
       "      <td>EHR</td>\n",
       "    </tr>\n",
       "    <tr>\n",
       "      <th>299999</th>\n",
       "      <td>9ec142709d75d3ff3a6f4692fbc8c92e4a35be87</td>\n",
       "      <td>f5d7f8a2bb23fd5922ac97ff07eed38e522590fb</td>\n",
       "      <td>ICD-10-CM</td>\n",
       "      <td>E78.5</td>\n",
       "      <td>Unknown</td>\n",
       "      <td>U</td>\n",
       "      <td>U</td>\n",
       "      <td>20221221</td>\n",
       "      <td>F</td>\n",
       "      <td>EHR</td>\n",
       "    </tr>\n",
       "  </tbody>\n",
       "</table>\n",
       "<p>300000 rows × 10 columns</p>\n",
       "</div>"
      ],
      "text/plain": [
       "                                      patient_id  \\\n",
       "0       cb210c55a430cf6b0b7de17394af7ac1ef023b11   \n",
       "1       09a69098466bb348bc9539b01f10e693779ae0d4   \n",
       "2       09a69098466bb348bc9539b01f10e693779ae0d4   \n",
       "3       1cfc222e0da79fc72ace45ebc1de9397705bc73b   \n",
       "4       1fbf8e821935996fc627573341cf02237a203ff9   \n",
       "...                                          ...   \n",
       "299995  9ec142709d75d3ff3a6f4692fbc8c92e4a35be87   \n",
       "299996  9ec142709d75d3ff3a6f4692fbc8c92e4a35be87   \n",
       "299997  9ec142709d75d3ff3a6f4692fbc8c92e4a35be87   \n",
       "299998  9ec142709d75d3ff3a6f4692fbc8c92e4a35be87   \n",
       "299999  9ec142709d75d3ff3a6f4692fbc8c92e4a35be87   \n",
       "\n",
       "                                    encounter_id code_system    code  \\\n",
       "0                                            NaN   ICD-10-CM  C90.00   \n",
       "1                                            NaN   ICD-10-CM  C81.10   \n",
       "2                                            NaN   ICD-10-CM  C81.10   \n",
       "3                                            NaN   ICD-10-CM  C91.00   \n",
       "4                                            NaN   ICD-10-CM   C22.0   \n",
       "...                                          ...         ...     ...   \n",
       "299995  13d04420b5cbfc79ff41460d9f08d052ede3013a   ICD-10-CM   E78.5   \n",
       "299996  0d6e40c2af0224e6407bfe791789baefa2a7e3bd   ICD-10-CM   E78.5   \n",
       "299997  f903324b34e482f389ea56c4c326ebc828ca567c   ICD-10-CM   E78.5   \n",
       "299998  a4b17011bc0bd4e75025cf74518e8f462fa67f4c   ICD-10-CM   E78.5   \n",
       "299999  f5d7f8a2bb23fd5922ac97ff07eed38e522590fb   ICD-10-CM   E78.5   \n",
       "\n",
       "       principal_diagnosis_indicator admitting_diagnosis reason_for_visit  \\\n",
       "0                            Unknown                   F                F   \n",
       "1                            Unknown                   F                F   \n",
       "2                            Unknown                   F                F   \n",
       "3                            Unknown                   F                F   \n",
       "4                            Unknown                   F                F   \n",
       "...                              ...                 ...              ...   \n",
       "299995                       Unknown                   U                U   \n",
       "299996                       Unknown                   U                U   \n",
       "299997                       Unknown                   U                U   \n",
       "299998                       Unknown                   U                U   \n",
       "299999                       Unknown                   U                U   \n",
       "\n",
       "            date derived_by_TriNetX source_id  \n",
       "0       20210317                  T   TriNetX  \n",
       "1       20121226                  T   TriNetX  \n",
       "2       20121226                  T   TriNetX  \n",
       "3       20121023                  T   TriNetX  \n",
       "4       20081229                  T   TriNetX  \n",
       "...          ...                ...       ...  \n",
       "299995  20211004                  F       EHR  \n",
       "299996  20211227                  F       EHR  \n",
       "299997  20220505                  F       EHR  \n",
       "299998  20220809                  F       EHR  \n",
       "299999  20221221                  F       EHR  \n",
       "\n",
       "[300000 rows x 10 columns]"
      ]
     },
     "execution_count": 44,
     "metadata": {},
     "output_type": "execute_result"
    }
   ],
   "source": [
    "diagnosis"
   ]
  },
  {
   "cell_type": "code",
   "execution_count": 45,
   "id": "8d2730e9",
   "metadata": {},
   "outputs": [],
   "source": [
    "diagnosis.to_pickle(\"diagnosis.pkl\")"
   ]
  },
  {
   "cell_type": "code",
   "execution_count": 3,
   "id": "0a3e957a",
   "metadata": {},
   "outputs": [],
   "source": [
    "diagnosis = pd.read_pickle('diagnosis.pkl')"
   ]
  },
  {
   "cell_type": "code",
   "execution_count": 47,
   "id": "4fca9ca7",
   "metadata": {},
   "outputs": [
    {
     "data": {
      "text/html": [
       "<div>\n",
       "<style scoped>\n",
       "    .dataframe tbody tr th:only-of-type {\n",
       "        vertical-align: middle;\n",
       "    }\n",
       "\n",
       "    .dataframe tbody tr th {\n",
       "        vertical-align: top;\n",
       "    }\n",
       "\n",
       "    .dataframe thead th {\n",
       "        text-align: right;\n",
       "    }\n",
       "</style>\n",
       "<table border=\"1\" class=\"dataframe\">\n",
       "  <thead>\n",
       "    <tr style=\"text-align: right;\">\n",
       "      <th></th>\n",
       "      <th>patient_id</th>\n",
       "      <th>encounter_id</th>\n",
       "      <th>code_system</th>\n",
       "      <th>code</th>\n",
       "      <th>principal_diagnosis_indicator</th>\n",
       "      <th>admitting_diagnosis</th>\n",
       "      <th>reason_for_visit</th>\n",
       "      <th>date</th>\n",
       "      <th>derived_by_TriNetX</th>\n",
       "      <th>source_id</th>\n",
       "    </tr>\n",
       "  </thead>\n",
       "  <tbody>\n",
       "    <tr>\n",
       "      <th>0</th>\n",
       "      <td>cb210c55a430cf6b0b7de17394af7ac1ef023b11</td>\n",
       "      <td>NaN</td>\n",
       "      <td>ICD-10-CM</td>\n",
       "      <td>C90.00</td>\n",
       "      <td>Unknown</td>\n",
       "      <td>F</td>\n",
       "      <td>F</td>\n",
       "      <td>20210317</td>\n",
       "      <td>T</td>\n",
       "      <td>TriNetX</td>\n",
       "    </tr>\n",
       "    <tr>\n",
       "      <th>1</th>\n",
       "      <td>09a69098466bb348bc9539b01f10e693779ae0d4</td>\n",
       "      <td>NaN</td>\n",
       "      <td>ICD-10-CM</td>\n",
       "      <td>C81.10</td>\n",
       "      <td>Unknown</td>\n",
       "      <td>F</td>\n",
       "      <td>F</td>\n",
       "      <td>20121226</td>\n",
       "      <td>T</td>\n",
       "      <td>TriNetX</td>\n",
       "    </tr>\n",
       "    <tr>\n",
       "      <th>2</th>\n",
       "      <td>09a69098466bb348bc9539b01f10e693779ae0d4</td>\n",
       "      <td>NaN</td>\n",
       "      <td>ICD-10-CM</td>\n",
       "      <td>C81.10</td>\n",
       "      <td>Unknown</td>\n",
       "      <td>F</td>\n",
       "      <td>F</td>\n",
       "      <td>20121226</td>\n",
       "      <td>T</td>\n",
       "      <td>TriNetX</td>\n",
       "    </tr>\n",
       "    <tr>\n",
       "      <th>3</th>\n",
       "      <td>1cfc222e0da79fc72ace45ebc1de9397705bc73b</td>\n",
       "      <td>NaN</td>\n",
       "      <td>ICD-10-CM</td>\n",
       "      <td>C91.00</td>\n",
       "      <td>Unknown</td>\n",
       "      <td>F</td>\n",
       "      <td>F</td>\n",
       "      <td>20121023</td>\n",
       "      <td>T</td>\n",
       "      <td>TriNetX</td>\n",
       "    </tr>\n",
       "    <tr>\n",
       "      <th>4</th>\n",
       "      <td>1fbf8e821935996fc627573341cf02237a203ff9</td>\n",
       "      <td>NaN</td>\n",
       "      <td>ICD-10-CM</td>\n",
       "      <td>C22.0</td>\n",
       "      <td>Unknown</td>\n",
       "      <td>F</td>\n",
       "      <td>F</td>\n",
       "      <td>20081229</td>\n",
       "      <td>T</td>\n",
       "      <td>TriNetX</td>\n",
       "    </tr>\n",
       "  </tbody>\n",
       "</table>\n",
       "</div>"
      ],
      "text/plain": [
       "                                 patient_id encounter_id code_system    code  \\\n",
       "0  cb210c55a430cf6b0b7de17394af7ac1ef023b11          NaN   ICD-10-CM  C90.00   \n",
       "1  09a69098466bb348bc9539b01f10e693779ae0d4          NaN   ICD-10-CM  C81.10   \n",
       "2  09a69098466bb348bc9539b01f10e693779ae0d4          NaN   ICD-10-CM  C81.10   \n",
       "3  1cfc222e0da79fc72ace45ebc1de9397705bc73b          NaN   ICD-10-CM  C91.00   \n",
       "4  1fbf8e821935996fc627573341cf02237a203ff9          NaN   ICD-10-CM   C22.0   \n",
       "\n",
       "  principal_diagnosis_indicator admitting_diagnosis reason_for_visit  \\\n",
       "0                       Unknown                   F                F   \n",
       "1                       Unknown                   F                F   \n",
       "2                       Unknown                   F                F   \n",
       "3                       Unknown                   F                F   \n",
       "4                       Unknown                   F                F   \n",
       "\n",
       "       date derived_by_TriNetX source_id  \n",
       "0  20210317                  T   TriNetX  \n",
       "1  20121226                  T   TriNetX  \n",
       "2  20121226                  T   TriNetX  \n",
       "3  20121023                  T   TriNetX  \n",
       "4  20081229                  T   TriNetX  "
      ]
     },
     "execution_count": 47,
     "metadata": {},
     "output_type": "execute_result"
    }
   ],
   "source": [
    "diagnosis.head(5)"
   ]
  },
  {
   "cell_type": "code",
   "execution_count": 48,
   "id": "446031df",
   "metadata": {},
   "outputs": [
    {
     "data": {
      "text/plain": [
       "patient_id                       object\n",
       "encounter_id                     object\n",
       "code_system                      object\n",
       "code                             object\n",
       "principal_diagnosis_indicator    object\n",
       "admitting_diagnosis              object\n",
       "reason_for_visit                 object\n",
       "date                              int64\n",
       "derived_by_TriNetX               object\n",
       "source_id                        object\n",
       "dtype: object"
      ]
     },
     "execution_count": 48,
     "metadata": {},
     "output_type": "execute_result"
    }
   ],
   "source": [
    "#Data types for each column\n",
    "diagnosis.dtypes"
   ]
  },
  {
   "cell_type": "code",
   "execution_count": 4,
   "id": "6eea80a5",
   "metadata": {},
   "outputs": [
    {
     "name": "stdout",
     "output_type": "stream",
     "text": [
      "48619\n",
      "I10         1204499\n",
      "E11.9        461644\n",
      "R05          426210\n",
      "E78.5        410625\n",
      "Z00.00       388487\n",
      "             ...   \n",
      "S92.514B          1\n",
      "S63.236D          1\n",
      "S31.110D          1\n",
      "Z45               1\n",
      "C00.6             1\n",
      "Name: code, Length: 48619, dtype: int64\n"
     ]
    }
   ],
   "source": [
    "# Print number of unique diagnostic codes\n",
    "print(len(diagnosis['code'].unique())) \n",
    "\n",
    "# Print number of times a diagnostic code was given\n",
    "print(diagnosis['code'].value_counts())"
   ]
  },
  {
   "cell_type": "code",
   "execution_count": 5,
   "id": "1df123f4",
   "metadata": {},
   "outputs": [
    {
     "name": "stdout",
     "output_type": "stream",
     "text": [
      "['Unknown' 'P' 'S']\n"
     ]
    }
   ],
   "source": [
    "# Prints unique values for principal diagnosis indicator\n",
    "print(diagnosis['principal_diagnosis_indicator'].unique()) "
   ]
  },
  {
   "cell_type": "code",
   "execution_count": 6,
   "id": "f2661265",
   "metadata": {},
   "outputs": [
    {
     "name": "stdout",
     "output_type": "stream",
     "text": [
      "['F' 'U']\n"
     ]
    }
   ],
   "source": [
    "# Prints unique values for admitting diagnosis\n",
    "print(diagnosis['admitting_diagnosis'].unique()) "
   ]
  },
  {
   "cell_type": "code",
   "execution_count": 7,
   "id": "623ff3e1",
   "metadata": {},
   "outputs": [
    {
     "name": "stdout",
     "output_type": "stream",
     "text": [
      "['F' 'U']\n"
     ]
    }
   ],
   "source": [
    "# Prints unique values for reason_for_visit\n",
    "print(diagnosis['reason_for_visit'].unique()) "
   ]
  },
  {
   "cell_type": "code",
   "execution_count": 8,
   "id": "f4abfb5d",
   "metadata": {},
   "outputs": [
    {
     "data": {
      "text/plain": [
       "patient_id                          0\n",
       "encounter_id                     8619\n",
       "code_system                      1498\n",
       "code                                0\n",
       "principal_diagnosis_indicator       0\n",
       "admitting_diagnosis                 0\n",
       "reason_for_visit                    0\n",
       "date                                0\n",
       "derived_by_TriNetX                  0\n",
       "source_id                           0\n",
       "dtype: int64"
      ]
     },
     "execution_count": 8,
     "metadata": {},
     "output_type": "execute_result"
    }
   ],
   "source": [
    "# Detect missing values\n",
    "diagnosis.isna().sum()"
   ]
  },
  {
   "cell_type": "code",
   "execution_count": 9,
   "id": "b8aec809",
   "metadata": {},
   "outputs": [
    {
     "data": {
      "image/png": "[encoded data removed]",
      "text/plain": [
       "<Figure size 432x288 with 1 Axes>"
      ]
     },
     "metadata": {
      "needs_background": "light"
     },
     "output_type": "display_data"
    }
   ],
   "source": [
    "from collections import Counter\n",
    "import matplotlib.pyplot as plt\n",
    "\n",
    "counts_1 = Counter(diagnosis['principal_diagnosis_indicator'])\n",
    "plt.bar(counts_1.keys(), counts_1.values())\n",
    "plt.show()"
   ]
  },
  {
   "cell_type": "code",
   "execution_count": 10,
   "id": "1413123f",
   "metadata": {},
   "outputs": [
    {
     "data": {
      "image/png": "[encoded data removed]",
      "text/plain": [
       "<Figure size 432x288 with 1 Axes>"
      ]
     },
     "metadata": {
      "needs_background": "light"
     },
     "output_type": "display_data"
    }
   ],
   "source": [
    "counts_2 = Counter(diagnosis['admitting_diagnosis'])\n",
    "plt.bar(counts_2.keys(), counts_2.values())\n",
    "plt.show()"
   ]
  },
  {
   "cell_type": "code",
   "execution_count": 11,
   "id": "812036a5",
   "metadata": {},
   "outputs": [
    {
     "data": {
      "image/png": "[encoded data removed]",
      "text/plain": [
       "<Figure size 432x288 with 1 Axes>"
      ]
     },
     "metadata": {
      "needs_background": "light"
     },
     "output_type": "display_data"
    }
   ],
   "source": [
    "counts_3 = Counter(diagnosis['reason_for_visit'])\n",
    "plt.bar(counts_3.keys(), counts_3.values())\n",
    "plt.show()"
   ]
  },
  {
   "cell_type": "code",
   "execution_count": 12,
   "id": "ef39799f",
   "metadata": {},
   "outputs": [
    {
     "data": {
      "text/plain": [
       "0           False\n",
       "1           False\n",
       "2           False\n",
       "3           False\n",
       "4           False\n",
       "            ...  \n",
       "49254406    False\n",
       "49254407    False\n",
       "49254408    False\n",
       "49254409    False\n",
       "49254410    False\n",
       "Name: admitting_diagnosis, Length: 49254411, dtype: bool"
      ]
     },
     "execution_count": 12,
     "metadata": {},
     "output_type": "execute_result"
    }
   ],
   "source": [
    "diagnosis['admitting_diagnosis'] == \"R05.3\""
   ]
  },
  {
   "cell_type": "code",
   "execution_count": 13,
   "id": "ecd38d7c",
   "metadata": {},
   "outputs": [
    {
     "data": {
      "image/png": "[encoded data removed]",
      "text/plain": [
       "<Figure size 432x288 with 1 Axes>"
      ]
     },
     "metadata": {
      "needs_background": "light"
     },
     "output_type": "display_data"
    }
   ],
   "source": [
    "diagnosis_R05_3 = diagnosis[diagnosis['code']=='R05.3']\n",
    "# some distribution plot\n",
    "counts_4 = Counter(diagnosis_R05_3['principal_diagnosis_indicator'])\n",
    "plt.bar(counts_4.keys(), counts_4.values())\n",
    "plt.show()"
   ]
  },
  {
   "cell_type": "code",
   "execution_count": 14,
   "id": "4b9159a3",
   "metadata": {},
   "outputs": [
    {
     "data": {
      "image/png": "[encoded data removed]",
      "text/plain": [
       "<Figure size 432x288 with 1 Axes>"
      ]
     },
     "metadata": {
      "needs_background": "light"
     },
     "output_type": "display_data"
    }
   ],
   "source": [
    "counts_5 = Counter(diagnosis_R05_3['admitting_diagnosis'])\n",
    "plt.bar(counts_5.keys(), counts_5.values())\n",
    "plt.show()"
   ]
  },
  {
   "cell_type": "code",
   "execution_count": 15,
   "id": "6170fca4",
   "metadata": {},
   "outputs": [
    {
     "data": {
      "image/png": "[encoded data removed]",
      "text/plain": [
       "<Figure size 432x288 with 1 Axes>"
      ]
     },
     "metadata": {
      "needs_background": "light"
     },
     "output_type": "display_data"
    }
   ],
   "source": [
    "counts_6 = Counter(diagnosis_R05_3['reason_for_visit'])\n",
    "plt.bar(counts_6.keys(), counts_6.values())\n",
    "plt.show()"
   ]
  },
  {
   "cell_type": "code",
   "execution_count": 16,
   "id": "6ff3f41d",
   "metadata": {},
   "outputs": [],
   "source": [
    "# get patient_id of patients with chronic cough(R05_3)\n",
    "patient_id_R05_3 = diagnosis_R05_3['patient_id'].unique()"
   ]
  },
  {
   "cell_type": "code",
   "execution_count": 17,
   "id": "5975d63f",
   "metadata": {},
   "outputs": [],
   "source": [
    "# get the diagnosis data of patients whoes id is in patient_id_R05_3\n",
    "diagnosis_patient_with_R05_3 = diagnosis.loc[(diagnosis['patient_id'].isin(patient_id_R05_3)), ['patient_id', 'code', 'date']]"
   ]
  },
  {
   "cell_type": "code",
   "execution_count": 18,
   "id": "58118971",
   "metadata": {},
   "outputs": [],
   "source": [
    "# extract the code in diagnosis_patient_with_R05_3 and calculate the frequency\n",
    "code_freq = diagnosis_patient_with_R05_3['code'].value_counts()"
   ]
  },
  {
   "cell_type": "code",
   "execution_count": 19,
   "id": "6f729421",
   "metadata": {},
   "outputs": [
    {
     "data": {
      "text/html": [
       "<div>\n",
       "<style scoped>\n",
       "    .dataframe tbody tr th:only-of-type {\n",
       "        vertical-align: middle;\n",
       "    }\n",
       "\n",
       "    .dataframe tbody tr th {\n",
       "        vertical-align: top;\n",
       "    }\n",
       "\n",
       "    .dataframe thead th {\n",
       "        text-align: right;\n",
       "    }\n",
       "</style>\n",
       "<table border=\"1\" class=\"dataframe\">\n",
       "  <thead>\n",
       "    <tr style=\"text-align: right;\">\n",
       "      <th></th>\n",
       "      <th>patient_id</th>\n",
       "      <th>encounter_id</th>\n",
       "      <th>code_system</th>\n",
       "      <th>code</th>\n",
       "      <th>principal_diagnosis_indicator</th>\n",
       "      <th>admitting_diagnosis</th>\n",
       "      <th>reason_for_visit</th>\n",
       "      <th>date</th>\n",
       "      <th>derived_by_TriNetX</th>\n",
       "      <th>source_id</th>\n",
       "    </tr>\n",
       "  </thead>\n",
       "  <tbody>\n",
       "    <tr>\n",
       "      <th>376</th>\n",
       "      <td>7a29b1cc4335620e52ab07bf7751f995d878c139</td>\n",
       "      <td>76c3bde411ecda592ab316d0a27433b30d12f08b</td>\n",
       "      <td>ICD-10-CM</td>\n",
       "      <td>R05.3</td>\n",
       "      <td>P</td>\n",
       "      <td>U</td>\n",
       "      <td>U</td>\n",
       "      <td>20221111</td>\n",
       "      <td>F</td>\n",
       "      <td>EHR</td>\n",
       "    </tr>\n",
       "    <tr>\n",
       "      <th>1054</th>\n",
       "      <td>8329230138a9a311e71060812d844741cfb77d8b</td>\n",
       "      <td>1ff7f8df7bdff491e7673747310d5771e5ddd5a0</td>\n",
       "      <td>ICD-10-CM</td>\n",
       "      <td>R05.3</td>\n",
       "      <td>P</td>\n",
       "      <td>U</td>\n",
       "      <td>U</td>\n",
       "      <td>20221128</td>\n",
       "      <td>F</td>\n",
       "      <td>EHR</td>\n",
       "    </tr>\n",
       "    <tr>\n",
       "      <th>1556</th>\n",
       "      <td>f66ee026fb262209448c09986b53f6f71c78034d</td>\n",
       "      <td>49df4abbe847d5da7ae50a549ea169c32d4252a2</td>\n",
       "      <td>ICD-10-CM</td>\n",
       "      <td>R05.3</td>\n",
       "      <td>P</td>\n",
       "      <td>U</td>\n",
       "      <td>U</td>\n",
       "      <td>20211203</td>\n",
       "      <td>F</td>\n",
       "      <td>EHR</td>\n",
       "    </tr>\n",
       "    <tr>\n",
       "      <th>1560</th>\n",
       "      <td>9afdeb8ec476203c3747bcf753efe02855be34d9</td>\n",
       "      <td>6b16d32dfc6f7e35075ca28e5d7fb538f197af42</td>\n",
       "      <td>ICD-10-CM</td>\n",
       "      <td>R05.3</td>\n",
       "      <td>P</td>\n",
       "      <td>U</td>\n",
       "      <td>U</td>\n",
       "      <td>20220314</td>\n",
       "      <td>F</td>\n",
       "      <td>EHR</td>\n",
       "    </tr>\n",
       "    <tr>\n",
       "      <th>1573</th>\n",
       "      <td>16f5643f12b474f974466c267c6dd2e977c72c5a</td>\n",
       "      <td>d04c73e045ed87ce8b443979da77f66e1b32c581</td>\n",
       "      <td>ICD-10-CM</td>\n",
       "      <td>R05.3</td>\n",
       "      <td>P</td>\n",
       "      <td>U</td>\n",
       "      <td>U</td>\n",
       "      <td>20220920</td>\n",
       "      <td>F</td>\n",
       "      <td>EHR</td>\n",
       "    </tr>\n",
       "    <tr>\n",
       "      <th>...</th>\n",
       "      <td>...</td>\n",
       "      <td>...</td>\n",
       "      <td>...</td>\n",
       "      <td>...</td>\n",
       "      <td>...</td>\n",
       "      <td>...</td>\n",
       "      <td>...</td>\n",
       "      <td>...</td>\n",
       "      <td>...</td>\n",
       "      <td>...</td>\n",
       "    </tr>\n",
       "    <tr>\n",
       "      <th>49241971</th>\n",
       "      <td>41d165f8519b34889f1b29271552e237c3449e59</td>\n",
       "      <td>8e0476823b438a197c24a3b3d5fe155b35673951</td>\n",
       "      <td>ICD-10-CM</td>\n",
       "      <td>R05.3</td>\n",
       "      <td>Unknown</td>\n",
       "      <td>U</td>\n",
       "      <td>U</td>\n",
       "      <td>20201015</td>\n",
       "      <td>F</td>\n",
       "      <td>NLP</td>\n",
       "    </tr>\n",
       "    <tr>\n",
       "      <th>49243090</th>\n",
       "      <td>f117eec4349c6b8cb2e8d4bb18835df706012bb3</td>\n",
       "      <td>ba84b337aaede807e81db5679d9bd69b81e5e38f</td>\n",
       "      <td>ICD-10-CM</td>\n",
       "      <td>R05.3</td>\n",
       "      <td>Unknown</td>\n",
       "      <td>U</td>\n",
       "      <td>U</td>\n",
       "      <td>20191212</td>\n",
       "      <td>F</td>\n",
       "      <td>NLP</td>\n",
       "    </tr>\n",
       "    <tr>\n",
       "      <th>49248557</th>\n",
       "      <td>05c740b29ae6fe696691ba09478f035edbf9d2fc</td>\n",
       "      <td>ea40473bcec3342a601f2126a803b2d13d0e0e0c</td>\n",
       "      <td>ICD-10-CM</td>\n",
       "      <td>R05.3</td>\n",
       "      <td>Unknown</td>\n",
       "      <td>U</td>\n",
       "      <td>U</td>\n",
       "      <td>20220502</td>\n",
       "      <td>F</td>\n",
       "      <td>NLP</td>\n",
       "    </tr>\n",
       "    <tr>\n",
       "      <th>49249384</th>\n",
       "      <td>c90d1023d4162e157f7a3eb2ddc85fe4c3bb6207</td>\n",
       "      <td>5c803b358105f03510847408756c68a74bbbed1f</td>\n",
       "      <td>ICD-10-CM</td>\n",
       "      <td>R05.3</td>\n",
       "      <td>Unknown</td>\n",
       "      <td>U</td>\n",
       "      <td>U</td>\n",
       "      <td>20190301</td>\n",
       "      <td>F</td>\n",
       "      <td>NLP</td>\n",
       "    </tr>\n",
       "    <tr>\n",
       "      <th>49251701</th>\n",
       "      <td>965bd834e9d77644aec4216dc5b5f716e8d9b435</td>\n",
       "      <td>42e93a80d8d9c53db98c5f4317da1c55dc5fcbbf</td>\n",
       "      <td>ICD-10-CM</td>\n",
       "      <td>R05.3</td>\n",
       "      <td>Unknown</td>\n",
       "      <td>U</td>\n",
       "      <td>U</td>\n",
       "      <td>20210327</td>\n",
       "      <td>F</td>\n",
       "      <td>NLP</td>\n",
       "    </tr>\n",
       "  </tbody>\n",
       "</table>\n",
       "<p>65808 rows × 10 columns</p>\n",
       "</div>"
      ],
      "text/plain": [
       "                                        patient_id  \\\n",
       "376       7a29b1cc4335620e52ab07bf7751f995d878c139   \n",
       "1054      8329230138a9a311e71060812d844741cfb77d8b   \n",
       "1556      f66ee026fb262209448c09986b53f6f71c78034d   \n",
       "1560      9afdeb8ec476203c3747bcf753efe02855be34d9   \n",
       "1573      16f5643f12b474f974466c267c6dd2e977c72c5a   \n",
       "...                                            ...   \n",
       "49241971  41d165f8519b34889f1b29271552e237c3449e59   \n",
       "49243090  f117eec4349c6b8cb2e8d4bb18835df706012bb3   \n",
       "49248557  05c740b29ae6fe696691ba09478f035edbf9d2fc   \n",
       "49249384  c90d1023d4162e157f7a3eb2ddc85fe4c3bb6207   \n",
       "49251701  965bd834e9d77644aec4216dc5b5f716e8d9b435   \n",
       "\n",
       "                                      encounter_id code_system   code  \\\n",
       "376       76c3bde411ecda592ab316d0a27433b30d12f08b   ICD-10-CM  R05.3   \n",
       "1054      1ff7f8df7bdff491e7673747310d5771e5ddd5a0   ICD-10-CM  R05.3   \n",
       "1556      49df4abbe847d5da7ae50a549ea169c32d4252a2   ICD-10-CM  R05.3   \n",
       "1560      6b16d32dfc6f7e35075ca28e5d7fb538f197af42   ICD-10-CM  R05.3   \n",
       "1573      d04c73e045ed87ce8b443979da77f66e1b32c581   ICD-10-CM  R05.3   \n",
       "...                                            ...         ...    ...   \n",
       "49241971  8e0476823b438a197c24a3b3d5fe155b35673951   ICD-10-CM  R05.3   \n",
       "49243090  ba84b337aaede807e81db5679d9bd69b81e5e38f   ICD-10-CM  R05.3   \n",
       "49248557  ea40473bcec3342a601f2126a803b2d13d0e0e0c   ICD-10-CM  R05.3   \n",
       "49249384  5c803b358105f03510847408756c68a74bbbed1f   ICD-10-CM  R05.3   \n",
       "49251701  42e93a80d8d9c53db98c5f4317da1c55dc5fcbbf   ICD-10-CM  R05.3   \n",
       "\n",
       "         principal_diagnosis_indicator admitting_diagnosis reason_for_visit  \\\n",
       "376                                  P                   U                U   \n",
       "1054                                 P                   U                U   \n",
       "1556                                 P                   U                U   \n",
       "1560                                 P                   U                U   \n",
       "1573                                 P                   U                U   \n",
       "...                                ...                 ...              ...   \n",
       "49241971                       Unknown                   U                U   \n",
       "49243090                       Unknown                   U                U   \n",
       "49248557                       Unknown                   U                U   \n",
       "49249384                       Unknown                   U                U   \n",
       "49251701                       Unknown                   U                U   \n",
       "\n",
       "              date derived_by_TriNetX source_id  \n",
       "376       20221111                  F       EHR  \n",
       "1054      20221128                  F       EHR  \n",
       "1556      20211203                  F       EHR  \n",
       "1560      20220314                  F       EHR  \n",
       "1573      20220920                  F       EHR  \n",
       "...            ...                ...       ...  \n",
       "49241971  20201015                  F       NLP  \n",
       "49243090  20191212                  F       NLP  \n",
       "49248557  20220502                  F       NLP  \n",
       "49249384  20190301                  F       NLP  \n",
       "49251701  20210327                  F       NLP  \n",
       "\n",
       "[65808 rows x 10 columns]"
      ]
     },
     "execution_count": 19,
     "metadata": {},
     "output_type": "execute_result"
    }
   ],
   "source": [
    "diagnosis_R05_3"
   ]
  },
  {
   "cell_type": "code",
   "execution_count": 20,
   "id": "04d1f679",
   "metadata": {},
   "outputs": [
    {
     "name": "stdout",
     "output_type": "stream",
     "text": [
      "                                        patient_id  \\\n",
      "376       7a29b1cc4335620e52ab07bf7751f995d878c139   \n",
      "1054      8329230138a9a311e71060812d844741cfb77d8b   \n",
      "1556      f66ee026fb262209448c09986b53f6f71c78034d   \n",
      "1560      9afdeb8ec476203c3747bcf753efe02855be34d9   \n",
      "1573      16f5643f12b474f974466c267c6dd2e977c72c5a   \n",
      "...                                            ...   \n",
      "49241971  41d165f8519b34889f1b29271552e237c3449e59   \n",
      "49243090  f117eec4349c6b8cb2e8d4bb18835df706012bb3   \n",
      "49248557  05c740b29ae6fe696691ba09478f035edbf9d2fc   \n",
      "49249384  c90d1023d4162e157f7a3eb2ddc85fe4c3bb6207   \n",
      "49251701  965bd834e9d77644aec4216dc5b5f716e8d9b435   \n",
      "\n",
      "                                      encounter_id code_system   code  \\\n",
      "376       76c3bde411ecda592ab316d0a27433b30d12f08b   ICD-10-CM  R05.3   \n",
      "1054      1ff7f8df7bdff491e7673747310d5771e5ddd5a0   ICD-10-CM  R05.3   \n",
      "1556      49df4abbe847d5da7ae50a549ea169c32d4252a2   ICD-10-CM  R05.3   \n",
      "1560      6b16d32dfc6f7e35075ca28e5d7fb538f197af42   ICD-10-CM  R05.3   \n",
      "1573      d04c73e045ed87ce8b443979da77f66e1b32c581   ICD-10-CM  R05.3   \n",
      "...                                            ...         ...    ...   \n",
      "49241971  8e0476823b438a197c24a3b3d5fe155b35673951   ICD-10-CM  R05.3   \n",
      "49243090  ba84b337aaede807e81db5679d9bd69b81e5e38f   ICD-10-CM  R05.3   \n",
      "49248557  ea40473bcec3342a601f2126a803b2d13d0e0e0c   ICD-10-CM  R05.3   \n",
      "49249384  5c803b358105f03510847408756c68a74bbbed1f   ICD-10-CM  R05.3   \n",
      "49251701  42e93a80d8d9c53db98c5f4317da1c55dc5fcbbf   ICD-10-CM  R05.3   \n",
      "\n",
      "         principal_diagnosis_indicator admitting_diagnosis reason_for_visit  \\\n",
      "376                                  P                   U                U   \n",
      "1054                                 P                   U                U   \n",
      "1556                                 P                   U                U   \n",
      "1560                                 P                   U                U   \n",
      "1573                                 P                   U                U   \n",
      "...                                ...                 ...              ...   \n",
      "49241971                       Unknown                   U                U   \n",
      "49243090                       Unknown                   U                U   \n",
      "49248557                       Unknown                   U                U   \n",
      "49249384                       Unknown                   U                U   \n",
      "49251701                       Unknown                   U                U   \n",
      "\n",
      "               date derived_by_TriNetX source_id  \n",
      "376      2022-11-11                  F       EHR  \n",
      "1054     2022-11-28                  F       EHR  \n",
      "1556     2021-12-03                  F       EHR  \n",
      "1560     2022-03-14                  F       EHR  \n",
      "1573     2022-09-20                  F       EHR  \n",
      "...             ...                ...       ...  \n",
      "49241971 2020-10-15                  F       NLP  \n",
      "49243090 2019-12-12                  F       NLP  \n",
      "49248557 2022-05-02                  F       NLP  \n",
      "49249384 2019-03-01                  F       NLP  \n",
      "49251701 2021-03-27                  F       NLP  \n",
      "\n",
      "[65808 rows x 10 columns]\n"
     ]
    },
    {
     "name": "stderr",
     "output_type": "stream",
     "text": [
      "/scratch/local/u1195729/7486764/ipykernel_103545/121052103.py:4: SettingWithCopyWarning: \n",
      "A value is trying to be set on a copy of a slice from a DataFrame.\n",
      "Try using .loc[row_indexer,col_indexer] = value instead\n",
      "\n",
      "See the caveats in the documentation: https://pandas.pydata.org/pandas-docs/stable/user_guide/indexing.html#returning-a-view-versus-a-copy\n",
      "  diagnosis_R05_3['date'] = pd.to_datetime(diagnosis_R05_3['date'], format='%Y%m%d')\n"
     ]
    }
   ],
   "source": [
    "# calculate and plot the frequency of coughing increase or decrease at different points in the year?\n",
    "#change ‘date’ into correct format\n",
    "from datetime import datetime\n",
    "diagnosis_R05_3['date'] = pd.to_datetime(diagnosis_R05_3['date'], format='%Y%m%d')\n",
    "print(diagnosis_R05_3)"
   ]
  },
  {
   "cell_type": "code",
   "execution_count": 21,
   "id": "4286e558",
   "metadata": {},
   "outputs": [
    {
     "name": "stdout",
     "output_type": "stream",
     "text": [
      "date\n",
      "1995-01-31       2\n",
      "1995-02-28       0\n",
      "1995-03-31       0\n",
      "1995-04-30       0\n",
      "1995-05-31       0\n",
      "              ... \n",
      "2022-10-31    2914\n",
      "2022-11-30    2801\n",
      "2022-12-31    1883\n",
      "2023-01-31    1130\n",
      "2023-02-28     127\n",
      "Freq: M, Length: 338, dtype: int64\n"
     ]
    }
   ],
   "source": [
    "# Group by month and count events\n",
    "count_by_month = diagnosis_R05_3.groupby(pd.Grouper(key='date', freq='M')).size()\n",
    "\n",
    "# Print the result\n",
    "print(count_by_month)"
   ]
  },
  {
   "cell_type": "code",
   "execution_count": 22,
   "id": "a4c1485a",
   "metadata": {},
   "outputs": [
    {
     "name": "stdout",
     "output_type": "stream",
     "text": [
      "date\n",
      "1995-01-31       2\n",
      "1995-02-28       0\n",
      "1995-03-31       0\n",
      "1995-04-30       0\n",
      "1995-05-31       0\n",
      "              ... \n",
      "2022-10-31    2914\n",
      "2022-11-30    2801\n",
      "2022-12-31    1883\n",
      "2023-01-31    1130\n",
      "2023-02-28     127\n",
      "Freq: M, Length: 338, dtype: int64\n"
     ]
    },
    {
     "data": {
      "image/png": "[encoded data removed]",
      "text/plain": [
       "<Figure size 432x288 with 1 Axes>"
      ]
     },
     "metadata": {
      "needs_background": "light"
     },
     "output_type": "display_data"
    }
   ],
   "source": [
    "#count_by_day = diagnosis_R05_3.groupby('date').size()\n",
    "print(count_by_month)\n",
    "plt.plot(count_by_month)\n",
    "plt.xlabel('Month')\n",
    "plt.ylabel('Chronic Cough Diagnosis by Month')\n",
    "plt.title('Chronic Cough Diagnosis Frequency by Month')\n",
    "plt.show()"
   ]
  },
  {
   "cell_type": "code",
   "execution_count": null,
   "id": "6976f88e",
   "metadata": {},
   "outputs": [],
   "source": []
  }
 ],
 "metadata": {
  "kernelspec": {
   "display_name": "Python 3 (ipykernel)",
   "language": "python",
   "name": "python3"
  },
  "language_info": {
   "codemirror_mode": {
    "name": "ipython",
    "version": 3
   },
   "file_extension": ".py",
   "mimetype": "text/x-python",
   "name": "python",
   "nbconvert_exporter": "python",
   "pygments_lexer": "ipython3",
   "version": "3.10.3"
  }
 },
 "nbformat": 4,
 "nbformat_minor": 5
}
